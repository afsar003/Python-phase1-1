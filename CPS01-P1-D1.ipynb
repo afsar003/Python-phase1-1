{
 "cells": [
  {
   "cell_type": "code",
   "execution_count": 11,
   "id": "5a209cda",
   "metadata": {},
   "outputs": [
    {
     "name": "stdout",
     "output_type": "stream",
     "text": [
      "<class 'int'> <class 'str'>\n"
     ]
    }
   ],
   "source": [
    "a,b=5,'A' #can use a=b=5 as well\n",
    "print(type(a),type(b))"
   ]
  },
  {
   "cell_type": "code",
   "execution_count": 13,
   "id": "f45c2d09",
   "metadata": {},
   "outputs": [
    {
     "name": "stdout",
     "output_type": "stream",
     "text": [
      "1\n",
      "2\n",
      "12\n"
     ]
    }
   ],
   "source": [
    "a=input() #value always stored as a string\n",
    "b=input()\n",
    "print(a+b)"
   ]
  },
  {
   "cell_type": "code",
   "execution_count": 15,
   "id": "6af913b7",
   "metadata": {},
   "outputs": [
    {
     "name": "stdout",
     "output_type": "stream",
     "text": [
      "['Hi', 'Lm', 'Hk']\n"
     ]
    }
   ],
   "source": [
    "#split-divides the input into multiple ones using space as a dividor\n",
    "t=\"Hi Lm Hk\"\n",
    "print(t.split())\n",
    "#still treated as string"
   ]
  },
  {
   "cell_type": "code",
   "execution_count": 16,
   "id": "2b93e0e8",
   "metadata": {},
   "outputs": [
    {
     "ename": "TypeError",
     "evalue": "int() argument must be a string, a bytes-like object or a number, not 'list'",
     "output_type": "error",
     "traceback": [
      "\u001b[0;31m---------------------------------------------------------------------------\u001b[0m",
      "\u001b[0;31mTypeError\u001b[0m                                 Traceback (most recent call last)",
      "\u001b[0;32m/var/folders/pv/61819rqd0hs8275tf87459xr0000gn/T/ipykernel_14556/1877878183.py\u001b[0m in \u001b[0;36m<module>\u001b[0;34m\u001b[0m\n\u001b[1;32m      1\u001b[0m \u001b[0mt\u001b[0m\u001b[0;34m=\u001b[0m\u001b[0;34m\"10 20 30\"\u001b[0m\u001b[0;34m\u001b[0m\u001b[0;34m\u001b[0m\u001b[0m\n\u001b[0;32m----> 2\u001b[0;31m \u001b[0mres\u001b[0m\u001b[0;34m=\u001b[0m\u001b[0mint\u001b[0m\u001b[0;34m(\u001b[0m\u001b[0mt\u001b[0m\u001b[0;34m.\u001b[0m\u001b[0msplit\u001b[0m\u001b[0;34m(\u001b[0m\u001b[0;34m)\u001b[0m\u001b[0;34m)\u001b[0m\u001b[0;34m\u001b[0m\u001b[0;34m\u001b[0m\u001b[0m\n\u001b[0m\u001b[1;32m      3\u001b[0m \u001b[0mprint\u001b[0m\u001b[0;34m(\u001b[0m\u001b[0mres\u001b[0m\u001b[0;34m)\u001b[0m\u001b[0;34m\u001b[0m\u001b[0;34m\u001b[0m\u001b[0m\n",
      "\u001b[0;31mTypeError\u001b[0m: int() argument must be a string, a bytes-like object or a number, not 'list'"
     ]
    }
   ],
   "source": [
    "t=\"10 20 30\"\n",
    "res=int(t.split())\n",
    "print(res) #error because int function expects only 1 value, can use loop, map, list for doing so"
   ]
  },
  {
   "cell_type": "code",
   "execution_count": null,
   "id": "a93f8360",
   "metadata": {},
   "outputs": [],
   "source": [
    "number -> int float complex\n",
    "string -> str\n",
    "sequence -> list tuple set\n",
    "key, value -> dict"
   ]
  },
  {
   "cell_type": "code",
   "execution_count": 20,
   "id": "682208d7",
   "metadata": {},
   "outputs": [
    {
     "name": "stdout",
     "output_type": "stream",
     "text": [
      "<class 'complex'>\n",
      "<class 'str'>\n",
      "<class 'str'>\n"
     ]
    }
   ],
   "source": [
    "i=5j\n",
    "print(type(i))\n",
    "i='5j'\n",
    "print(type(i))\n",
    "i='''5\n",
    "j'''    #can use ''' multi line strings ''' and \" when we need to write himal's \"\n",
    "print(type(i))"
   ]
  },
  {
   "cell_type": "code",
   "execution_count": 21,
   "id": "fdb8ade8",
   "metadata": {},
   "outputs": [
    {
     "name": "stdout",
     "output_type": "stream",
     "text": [
      "[1, 2, 3, 4] <class 'list'>\n"
     ]
    }
   ],
   "source": [
    "n=[1,2,3,4] #list\n",
    "print(n,type(n))"
   ]
  },
  {
   "cell_type": "code",
   "execution_count": 22,
   "id": "8655a22e",
   "metadata": {},
   "outputs": [
    {
     "name": "stdout",
     "output_type": "stream",
     "text": [
      "(1, 2, 3, 4) <class 'tuple'>\n"
     ]
    }
   ],
   "source": [
    "n=(1,2,3,4) \n",
    "print(n,type(n))"
   ]
  },
  {
   "cell_type": "code",
   "execution_count": 23,
   "id": "5d5329ac",
   "metadata": {},
   "outputs": [
    {
     "name": "stdout",
     "output_type": "stream",
     "text": [
      "{1, 2, 3, 4} <class 'set'>\n"
     ]
    }
   ],
   "source": [
    "n={1,2,3,4} \n",
    "print(n,type(n))"
   ]
  },
  {
   "cell_type": "code",
   "execution_count": 29,
   "id": "d4d5b76b",
   "metadata": {},
   "outputs": [
    {
     "name": "stdout",
     "output_type": "stream",
     "text": [
      "{1: 'we', 2: 'wdf', 3: 'fbed', 4: 5} <class 'dict'>\n"
     ]
    }
   ],
   "source": [
    "n={1:'we',2:'wdf',3:'fbed',4:5} \n",
    "print(n,type(n))"
   ]
  },
  {
   "cell_type": "code",
   "execution_count": 31,
   "id": "522b2845",
   "metadata": {},
   "outputs": [
    {
     "name": "stdout",
     "output_type": "stream",
     "text": [
      "3\n",
      "16\n"
     ]
    }
   ],
   "source": [
    "print(100//30)# // floor division\n",
    "print(2**4) #power"
   ]
  },
  {
   "cell_type": "code",
   "execution_count": null,
   "id": "f4db3383",
   "metadata": {},
   "outputs": [],
   "source": [
    "#no increment operators in python"
   ]
  },
  {
   "cell_type": "code",
   "execution_count": null,
   "id": "ee9b0a62",
   "metadata": {},
   "outputs": [],
   "source": [
    "#left shift multiply by 2 right shift divide"
   ]
  },
  {
   "cell_type": "code",
   "execution_count": null,
   "id": "30b28f9c",
   "metadata": {},
   "outputs": [],
   "source": [
    "#program to multiply 2 numbers"
   ]
  },
  {
   "cell_type": "code",
   "execution_count": 51,
   "id": "4d028599",
   "metadata": {},
   "outputs": [
    {
     "name": "stdout",
     "output_type": "stream",
     "text": [
      "12\n",
      "20\n",
      "240\n"
     ]
    }
   ],
   "source": [
    "a=int(input())\n",
    "b=int(input())\n",
    "r=0\n",
    "while(b!=0):\n",
    "    if(b&1==1):    #remaining all other bits except LSB are 0 because of 1\n",
    "        r=r+a\n",
    "    a=a<<1\n",
    "    b=b>>1\n",
    "print(r)"
   ]
  },
  {
   "cell_type": "code",
   "execution_count": 46,
   "id": "d2e8d5b5",
   "metadata": {},
   "outputs": [
    {
     "name": "stdout",
     "output_type": "stream",
     "text": [
      "True\n"
     ]
    }
   ],
   "source": [
    "l=[2,3,5,4]   #returns boolean\n",
    "key = 5\n",
    "print(key in l)"
   ]
  },
  {
   "cell_type": "code",
   "execution_count": 50,
   "id": "7e66a110",
   "metadata": {},
   "outputs": [
    {
     "name": "stdout",
     "output_type": "stream",
     "text": [
      "140594009795024 140594015305904\n",
      "False\n",
      "True\n"
     ]
    }
   ],
   "source": [
    "a=6\n",
    "b=6.0  \n",
    "print(id(a),id(b))\n",
    "print(a is b) #compares the ids if they are referring to same object the ids will be same else different.\n",
    "print(a == b)"
   ]
  },
  {
   "cell_type": "code",
   "execution_count": 52,
   "id": "ec7a29fb",
   "metadata": {},
   "outputs": [
    {
     "name": "stdout",
     "output_type": "stream",
     "text": [
      "6\n"
     ]
    }
   ],
   "source": [
    "a,b=5,6\n",
    "max= a if a>b else b\n",
    "print(max)"
   ]
  },
  {
   "cell_type": "code",
   "execution_count": 54,
   "id": "d120b7e6",
   "metadata": {},
   "outputs": [
    {
     "name": "stdout",
     "output_type": "stream",
     "text": [
      "2022\n",
      "Not Leap Year\n"
     ]
    }
   ],
   "source": [
    "#Leap Year\n",
    "a=int(input())\n",
    "if(a%4==0 and a%100!=0):\n",
    "    print(\"Leap year\")\n",
    "else:\n",
    "    print(\"Not Leap Year\")"
   ]
  },
  {
   "cell_type": "code",
   "execution_count": null,
   "id": "89ebbaba",
   "metadata": {},
   "outputs": [],
   "source": [
    "#happy number\n"
   ]
  },
  {
   "cell_type": "code",
   "execution_count": 60,
   "id": "8a9325a9",
   "metadata": {},
   "outputs": [
    {
     "name": "stdout",
     "output_type": "stream",
     "text": [
      "17\n",
      "2 3 4 5 6 7 8 9 10 11 12 13 14 15 16 18 19 \n",
      "2 3 4 5 6 7 8 9 10 11 12 13 14 15 16 17 18 19 "
     ]
    }
   ],
   "source": [
    "x=int(input())\n",
    "for i in range(2,20):\n",
    "    if x%i==0: continue\n",
    "    print(i, end=\" \")\n",
    "print()\n",
    "for i in range(2,20):\n",
    "    if x%i==0: pass\n",
    "    print(i, end=\" \")\n",
    "#pass will just let it be "
   ]
  },
  {
   "cell_type": "code",
   "execution_count": 66,
   "id": "d2b2bb5c",
   "metadata": {},
   "outputs": [
    {
     "name": "stdout",
     "output_type": "stream",
     "text": [
      "1\n",
      "121\n",
      "12321\n"
     ]
    }
   ],
   "source": [
    "#1\n",
    "#121\n",
    "#12321\n",
    "n=3\n",
    "j=1\n",
    "for i in range(1,n+1):\n",
    "    a=j**2\n",
    "    print(a)\n",
    "    j=j*10+1\n",
    "    \n",
    "    "
   ]
  },
  {
   "cell_type": "code",
   "execution_count": 68,
   "id": "42f63edf",
   "metadata": {},
   "outputs": [
    {
     "name": "stdout",
     "output_type": "stream",
     "text": [
      "1\n",
      "121\n",
      "12321\n"
     ]
    }
   ],
   "source": [
    "n=3\n",
    "for i in range(1,n+1):\n",
    "    a=(10**i)//9\n",
    "    print(a**2)"
   ]
  },
  {
   "cell_type": "code",
   "execution_count": 70,
   "id": "a1748476",
   "metadata": {},
   "outputs": [
    {
     "name": "stdout",
     "output_type": "stream",
     "text": [
      "EVEN\n"
     ]
    }
   ],
   "source": [
    "#check if the list has atleast 1 odd number\n",
    "l=[2,4,8,2,82]\n",
    "for i in l:\n",
    "    if i%2!=0:\n",
    "        print(\"ODD\")\n",
    "        break\n",
    "else:print(\"EVEN\")  #will execute only when loop terminates after completing all the iteractions"
   ]
  },
  {
   "cell_type": "code",
   "execution_count": 82,
   "id": "a448f40f",
   "metadata": {},
   "outputs": [
    {
     "name": "stdout",
     "output_type": "stream",
     "text": [
      "17\n",
      "Prime\n"
     ]
    }
   ],
   "source": [
    "#check if prime using for-else\n",
    "n=int(input())\n",
    "for i in range(2, n):\n",
    "    if(n%i==0):\n",
    "        print(\"Not Prime\")\n",
    "        break;\n",
    "else:\n",
    "    print(\"Prime\")"
   ]
  },
  {
   "cell_type": "code",
   "execution_count": 88,
   "id": "d7f6f037",
   "metadata": {},
   "outputs": [
    {
     "name": "stdout",
     "output_type": "stream",
     "text": [
      "5 10 15 20 25 30 35 40 45 50 \n",
      "6 12 18 24 30 36 42 48 54 60 \n",
      "7 14 21 28 35 42 49 56 63 70 \n",
      "8 16 24 32 40 48 56 64 72 80 \n",
      "9 18 27 36 45 54 63 72 81 90 \n",
      "10 20 30 40 50 60 70 80 90 100 \n"
     ]
    }
   ],
   "source": [
    "n,m=5,10\n",
    "for i in range(5,11):\n",
    "    for j in range(1,11):\n",
    "        print(i*j, end=\" \")\n",
    "    print()"
   ]
  },
  {
   "cell_type": "code",
   "execution_count": 96,
   "id": "e2461fd8",
   "metadata": {},
   "outputs": [
    {
     "name": "stdout",
     "output_type": "stream",
     "text": [
      "y\n",
      "ydalmH\n"
     ]
    }
   ],
   "source": [
    "#negative index\n",
    "s=\"HimalPandey\"\n",
    "print(s[-1])\n",
    "print(s[::-2]) #slice works like range, if no start index starts from front and ends at last if no ending index is mentioned\n",
    "print(s[1:4:-1]) #nothing as output as starting<ending\n",
    "#can use step value as well\n",
    "#can use -ve step value also"
   ]
  },
  {
   "cell_type": "code",
   "execution_count": 97,
   "id": "7e18c4bd",
   "metadata": {},
   "outputs": [
    {
     "name": "stdout",
     "output_type": "stream",
     "text": [
      "testtesttest\n"
     ]
    }
   ],
   "source": [
    "s=\"test\"\n",
    "print(s*3) #string is allowed to multiply with number only"
   ]
  },
  {
   "cell_type": "code",
   "execution_count": 100,
   "id": "01a040e2",
   "metadata": {},
   "outputs": [
    {
     "name": "stdout",
     "output_type": "stream",
     "text": [
      "*\n",
      "**\n",
      "***\n",
      "****\n",
      "***\n",
      "**\n",
      "*\n"
     ]
    }
   ],
   "source": [
    "s=\"*\"\n",
    "n=4\n",
    "for i in range(1,n+1):\n",
    "    print(s*i)\n",
    "for i in range(1,n):\n",
    "    print(s*(n-i))"
   ]
  },
  {
   "cell_type": "code",
   "execution_count": 103,
   "id": "e600b318",
   "metadata": {},
   "outputs": [
    {
     "name": "stdout",
     "output_type": "stream",
     "text": [
      "[1, 12, 13, 15, 16, 4.3, 'Himal', [4, 5, 6]]\n"
     ]
    }
   ],
   "source": [
    "l=[1,12,13,15,16,4.3,\"Himal\",[4,5,6]]\n",
    "print(l)\n",
    "#collection of heterogeneous values\n",
    "#duplicates allowed\n",
    "#order is retained so using index is fine\n"
   ]
  },
  {
   "cell_type": "code",
   "execution_count": null,
   "id": "7978700a",
   "metadata": {},
   "outputs": [],
   "source": []
  }
 ],
 "metadata": {
  "kernelspec": {
   "display_name": "Python 3 (ipykernel)",
   "language": "python",
   "name": "python3"
  },
  "language_info": {
   "codemirror_mode": {
    "name": "ipython",
    "version": 3
   },
   "file_extension": ".py",
   "mimetype": "text/x-python",
   "name": "python",
   "nbconvert_exporter": "python",
   "pygments_lexer": "ipython3",
   "version": "3.9.13"
  }
 },
 "nbformat": 4,
 "nbformat_minor": 5
}
